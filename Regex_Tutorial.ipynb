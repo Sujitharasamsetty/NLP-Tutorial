{
  "nbformat": 4,
  "nbformat_minor": 0,
  "metadata": {
    "colab": {
      "provenance": [],
      "authorship_tag": "ABX9TyOfg3u0n8QznmJv6Okf38sR",
      "include_colab_link": true
    },
    "kernelspec": {
      "name": "python3",
      "display_name": "Python 3"
    },
    "language_info": {
      "name": "python"
    }
  },
  "cells": [
    {
      "cell_type": "markdown",
      "metadata": {
        "id": "view-in-github",
        "colab_type": "text"
      },
      "source": [
        "<a href=\"https://colab.research.google.com/github/Sujitharasamsetty/NLP-Tutorial/blob/main/Regex_Tutorial.ipynb\" target=\"_parent\"><img src=\"https://colab.research.google.com/assets/colab-badge.svg\" alt=\"Open In Colab\"/></a>"
      ]
    },
    {
      "cell_type": "code",
      "execution_count": 1,
      "metadata": {
        "id": "_UMl3zKnlKrH"
      },
      "outputs": [],
      "source": [
        "#Regular Expression\n",
        "import re"
      ]
    },
    {
      "cell_type": "code",
      "source": [
        "chat1 = 'you ask lot of questions 😠  1235678912, abc@xyz.com, 7895456123'\n",
        "chat2 = 'here it is: (123)-567-8912, abc@xyz.com'\n",
        "chat3 = 'yes, phone: 1235678912 email: abc@xyz.io'"
      ],
      "metadata": {
        "id": "cuo-8mKXlrK1"
      },
      "execution_count": 26,
      "outputs": []
    },
    {
      "cell_type": "markdown",
      "source": [
        "**For Retriving Phone Numbers**"
      ],
      "metadata": {
        "id": "vQj7uyHYLiiq"
      }
    },
    {
      "cell_type": "code",
      "source": [
        "pattern=' \\d{10}|\\(\\d{3}\\)-\\d{3}-\\d{4}'\n",
        "matches = re.findall(pattern,chat2)\n",
        "matches"
      ],
      "metadata": {
        "colab": {
          "base_uri": "https://localhost:8080/"
        },
        "id": "zBWhLVNDxKPE",
        "outputId": "e59b7b1c-38ec-4287-896e-4633a3ce7df5"
      },
      "execution_count": 28,
      "outputs": [
        {
          "output_type": "execute_result",
          "data": {
            "text/plain": [
              "['(123)-567-8912']"
            ]
          },
          "metadata": {},
          "execution_count": 28
        }
      ]
    },
    {
      "cell_type": "markdown",
      "source": [
        "**For Retriving Email ID's**"
      ],
      "metadata": {
        "id": "roV_f0BXLrEe"
      }
    },
    {
      "cell_type": "code",
      "source": [
        "pattern = '[a-z0-9A-Z_]*@[a-z0-9A-Z]*\\.[a-z0-9A-Z_]*'\n",
        "matches=re.findall(pattern,chat3)\n",
        "matches"
      ],
      "metadata": {
        "colab": {
          "base_uri": "https://localhost:8080/"
        },
        "id": "BBQ_D08zxccA",
        "outputId": "1e39adc7-d1b6-41ca-ee4d-6c10efad97d5"
      },
      "execution_count": 27,
      "outputs": [
        {
          "output_type": "execute_result",
          "data": {
            "text/plain": [
              "['abc@xyz.io']"
            ]
          },
          "metadata": {},
          "execution_count": 27
        }
      ]
    },
    {
      "cell_type": "markdown",
      "source": [
        "**For Retriving Order Id in Particular Format**"
      ],
      "metadata": {
        "id": "wgH0ra0NSPgZ"
      }
    },
    {
      "cell_type": "code",
      "source": [
        "chat4='Hello, I am having an issue with my order #412889912'\n",
        "chat5='I have a problem with my order number 412889912'\n",
        "chat6='My order 412889912 is having an issue, I was charged 300$ when online it says 280$'"
      ],
      "metadata": {
        "id": "OZgtyygLQWTL"
      },
      "execution_count": 35,
      "outputs": []
    },
    {
      "cell_type": "code",
      "source": [
        "pattern='order[^\\d]*(\\d*)'\n",
        "matches=re.findall(pattern,chat4)\n",
        "matches"
      ],
      "metadata": {
        "colab": {
          "base_uri": "https://localhost:8080/"
        },
        "id": "E2Jv4QCyPl74",
        "outputId": "369abf02-f039-4c1a-a941-1373fc2b65e8"
      },
      "execution_count": 36,
      "outputs": [
        {
          "output_type": "execute_result",
          "data": {
            "text/plain": [
              "['412889912']"
            ]
          },
          "metadata": {},
          "execution_count": 36
        }
      ]
    }
  ]
}