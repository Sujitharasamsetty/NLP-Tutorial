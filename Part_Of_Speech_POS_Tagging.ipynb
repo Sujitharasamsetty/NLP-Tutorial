{
  "nbformat": 4,
  "nbformat_minor": 0,
  "metadata": {
    "colab": {
      "provenance": [],
      "authorship_tag": "ABX9TyN74JKuC40zWWLoMxddOJ8J",
      "include_colab_link": true
    },
    "kernelspec": {
      "name": "python3",
      "display_name": "Python 3"
    },
    "language_info": {
      "name": "python"
    }
  },
  "cells": [
    {
      "cell_type": "markdown",
      "metadata": {
        "id": "view-in-github",
        "colab_type": "text"
      },
      "source": [
        "<a href=\"https://colab.research.google.com/github/Sujitharasamsetty/NLP-Tutorial/blob/main/Part_Of_Speech_POS_Tagging.ipynb\" target=\"_parent\"><img src=\"https://colab.research.google.com/assets/colab-badge.svg\" alt=\"Open In Colab\"/></a>"
      ]
    },
    {
      "cell_type": "code",
      "execution_count": 1,
      "metadata": {
        "id": "RuwcoJ9z2ght"
      },
      "outputs": [],
      "source": [
        "import spacy"
      ]
    },
    {
      "cell_type": "code",
      "source": [
        "nlp = spacy.load(\"en_core_web_sm\")"
      ],
      "metadata": {
        "id": "G-3UfPRc2o4L"
      },
      "execution_count": 2,
      "outputs": []
    },
    {
      "cell_type": "code",
      "source": [
        "nlp.pipe_names"
      ],
      "metadata": {
        "colab": {
          "base_uri": "https://localhost:8080/"
        },
        "id": "IxzcN4Mn6S4F",
        "outputId": "2b12d187-8087-49c4-ccbe-0b9267ebbdd0"
      },
      "execution_count": 6,
      "outputs": [
        {
          "output_type": "execute_result",
          "data": {
            "text/plain": [
              "['tok2vec', 'tagger', 'parser', 'attribute_ruler', 'lemmatizer', 'ner']"
            ]
          },
          "metadata": {},
          "execution_count": 6
        }
      ]
    },
    {
      "cell_type": "markdown",
      "source": [
        "# **POS Tags**"
      ],
      "metadata": {
        "id": "oJ_JaU2GBznO"
      }
    },
    {
      "cell_type": "code",
      "source": [
        "doc = nlp(\"Wow! Dr. Strange made 265 million $ on the very first day\")\n",
        "\n",
        "for token in doc :\n",
        "  print(token ,'|', token.pos_ , '|' , spacy.explain(token.pos_))"
      ],
      "metadata": {
        "colab": {
          "base_uri": "https://localhost:8080/"
        },
        "id": "P5wq-UyS2zy6",
        "outputId": "d8bbcea5-8529-40a8-dac3-b385f6332d2e"
      },
      "execution_count": 5,
      "outputs": [
        {
          "output_type": "stream",
          "name": "stdout",
          "text": [
            "Wow | INTJ | interjection\n",
            "! | PUNCT | punctuation\n",
            "Dr. | PROPN | proper noun\n",
            "Strange | PROPN | proper noun\n",
            "made | VERB | verb\n",
            "265 | NUM | numeral\n",
            "million | NUM | numeral\n",
            "$ | NUM | numeral\n",
            "on | ADP | adposition\n",
            "the | DET | determiner\n",
            "very | ADV | adverb\n",
            "first | ADJ | adjective\n",
            "day | NOUN | noun\n"
          ]
        }
      ]
    },
    {
      "cell_type": "code",
      "source": [
        "doc = nlp(\"Wow! Dr. Strange made 265 million $ on the very first day\")\n",
        "\n",
        "for token in doc:\n",
        "  print(token,'|' , token.pos_ , '|', spacy.explain(token.pos_) , '|', token.tag_ , '|', spacy.explain(token.tag_))"
      ],
      "metadata": {
        "colab": {
          "base_uri": "https://localhost:8080/"
        },
        "id": "1K08JURO3YzF",
        "outputId": "ad6a25b5-e964-4ca9-d9d2-2bf9ae3cefbc"
      },
      "execution_count": 10,
      "outputs": [
        {
          "output_type": "stream",
          "name": "stdout",
          "text": [
            "Wow | INTJ | interjection | UH | interjection\n",
            "! | PUNCT | punctuation | . | punctuation mark, sentence closer\n",
            "Dr. | PROPN | proper noun | NNP | noun, proper singular\n",
            "Strange | PROPN | proper noun | NNP | noun, proper singular\n",
            "made | VERB | verb | VBD | verb, past tense\n",
            "265 | NUM | numeral | CD | cardinal number\n",
            "million | NUM | numeral | CD | cardinal number\n",
            "$ | NUM | numeral | CD | cardinal number\n",
            "on | ADP | adposition | IN | conjunction, subordinating or preposition\n",
            "the | DET | determiner | DT | determiner\n",
            "very | ADV | adverb | RB | adverb\n",
            "first | ADJ | adjective | JJ | adjective (English), other noun-modifier (Chinese)\n",
            "day | NOUN | noun | NN | noun, singular or mass\n"
          ]
        }
      ]
    },
    {
      "cell_type": "markdown",
      "source": [
        "**Spacy figures out the past vs present tense for quit**"
      ],
      "metadata": {
        "id": "sM7-dnz4DqXb"
      }
    },
    {
      "cell_type": "code",
      "source": [
        "doc = nlp(\"He quits the job\")\n",
        "\n",
        "print(doc[1].text, \"|\", doc[1].tag_, \"|\", spacy.explain(doc[1].tag_))"
      ],
      "metadata": {
        "colab": {
          "base_uri": "https://localhost:8080/"
        },
        "id": "OoPfWZXRBLeY",
        "outputId": "d1c63b8c-6941-4ca0-e7e2-e6f6b03252d3"
      },
      "execution_count": 13,
      "outputs": [
        {
          "output_type": "stream",
          "name": "stdout",
          "text": [
            "quits | VBZ | verb, 3rd person singular present\n"
          ]
        }
      ]
    },
    {
      "cell_type": "code",
      "source": [
        "doc = nlp(\"He quit the job\")\n",
        "\n",
        "print(doc[1].text, '|' , doc[1].tag_  , '|' , spacy.explain (doc[1].tag_))"
      ],
      "metadata": {
        "colab": {
          "base_uri": "https://localhost:8080/"
        },
        "id": "jZqpp6SACqr9",
        "outputId": "d6e08f9f-3b86-4047-a5eb-4eec5e118539"
      },
      "execution_count": 15,
      "outputs": [
        {
          "output_type": "stream",
          "name": "stdout",
          "text": [
            "quit | VBD | verb, past tense\n"
          ]
        }
      ]
    },
    {
      "cell_type": "code",
      "source": [
        "earning_texts =  \"\"\" Microsoft Corp. today announced the following results for the quarter ended December 31, 2021, as compared to the corresponding period of last fiscal year:\n",
        "\n",
        "·         Revenue was $51.7 billion and increased 20%\n",
        "\n",
        "·         Operating income was $22.2 billion and increased 24%\n",
        "\n",
        "·         Net income was $18.8 billion and increased 21%\n",
        "\n",
        "·         Diluted earnings per share was $2.48 and increased 22% \"\"\""
      ],
      "metadata": {
        "id": "Qj5t6B4rDb1D"
      },
      "execution_count": 19,
      "outputs": []
    },
    {
      "cell_type": "code",
      "source": [
        "doc = nlp(earning_texts)\n",
        "\n",
        "filtered_tokens=[]\n",
        "\n",
        "for token in doc :\n",
        "\n",
        "  if token.pos not in [ 'SPACE' , 'PUNCT', 'X']:\n",
        "    filtered_tokens.append(token)"
      ],
      "metadata": {
        "id": "zE02p9mfEMT-"
      },
      "execution_count": 23,
      "outputs": []
    },
    {
      "cell_type": "code",
      "source": [
        "filtered_tokens[:20]"
      ],
      "metadata": {
        "colab": {
          "base_uri": "https://localhost:8080/"
        },
        "id": "YbAA5UB3EO2l",
        "outputId": "abeb124a-f6e6-4c64-a388-c6212b0484cd"
      },
      "execution_count": 24,
      "outputs": [
        {
          "output_type": "execute_result",
          "data": {
            "text/plain": [
              "[ ,\n",
              " Microsoft,\n",
              " Corp.,\n",
              " today,\n",
              " announced,\n",
              " the,\n",
              " following,\n",
              " results,\n",
              " for,\n",
              " the,\n",
              " quarter,\n",
              " ended,\n",
              " December,\n",
              " 31,\n",
              " ,,\n",
              " 2021,\n",
              " ,,\n",
              " as,\n",
              " compared,\n",
              " to]"
            ]
          },
          "metadata": {},
          "execution_count": 24
        }
      ]
    },
    {
      "cell_type": "code",
      "source": [
        "count = doc.count_by(spacy.attrs.POS)\n",
        "count"
      ],
      "metadata": {
        "colab": {
          "base_uri": "https://localhost:8080/"
        },
        "id": "npdWYjYeG1eV",
        "outputId": "b1eec00a-c1f4-4594-b552-7dd616797bcc"
      },
      "execution_count": 26,
      "outputs": [
        {
          "output_type": "execute_result",
          "data": {
            "text/plain": [
              "{103: 9,\n",
              " 96: 3,\n",
              " 92: 14,\n",
              " 100: 10,\n",
              " 90: 3,\n",
              " 85: 4,\n",
              " 93: 13,\n",
              " 97: 7,\n",
              " 98: 1,\n",
              " 84: 4,\n",
              " 87: 4,\n",
              " 99: 4,\n",
              " 89: 4}"
            ]
          },
          "metadata": {},
          "execution_count": 26
        }
      ]
    },
    {
      "cell_type": "code",
      "source": [
        "doc.vocab[96].text"
      ],
      "metadata": {
        "colab": {
          "base_uri": "https://localhost:8080/",
          "height": 35
        },
        "id": "IyegkKAwG_ro",
        "outputId": "b1233713-136a-4129-a333-cd487cc2b1c7"
      },
      "execution_count": 27,
      "outputs": [
        {
          "output_type": "execute_result",
          "data": {
            "text/plain": [
              "'PROPN'"
            ],
            "application/vnd.google.colaboratory.intrinsic+json": {
              "type": "string"
            }
          },
          "metadata": {},
          "execution_count": 27
        }
      ]
    },
    {
      "cell_type": "code",
      "source": [
        "for k,v in count.items ():\n",
        "  print(doc.vocab[k].text , '|' , v)"
      ],
      "metadata": {
        "colab": {
          "base_uri": "https://localhost:8080/"
        },
        "id": "Afsbcw4eHUIx",
        "outputId": "19207803-7938-4f1a-bfa3-1b3ffcd97cc8"
      },
      "execution_count": 29,
      "outputs": [
        {
          "output_type": "stream",
          "name": "stdout",
          "text": [
            "SPACE | 9\n",
            "PROPN | 3\n",
            "NOUN | 14\n",
            "VERB | 10\n",
            "DET | 3\n",
            "ADP | 4\n",
            "NUM | 13\n",
            "PUNCT | 7\n",
            "SCONJ | 1\n",
            "ADJ | 4\n",
            "AUX | 4\n",
            "SYM | 4\n",
            "CCONJ | 4\n"
          ]
        }
      ]
    }
  ]
}