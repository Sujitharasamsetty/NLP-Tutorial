{
  "nbformat": 4,
  "nbformat_minor": 0,
  "metadata": {
    "colab": {
      "provenance": [],
      "authorship_tag": "ABX9TyOEpPeVBc9YcQFUrul6r0V1",
      "include_colab_link": true
    },
    "kernelspec": {
      "name": "python3",
      "display_name": "Python 3"
    },
    "language_info": {
      "name": "python"
    }
  },
  "cells": [
    {
      "cell_type": "markdown",
      "metadata": {
        "id": "view-in-github",
        "colab_type": "text"
      },
      "source": [
        "<a href=\"https://colab.research.google.com/github/Sujitharasamsetty/NLP-Tutorial/blob/main/Part_Of_Speech_POS_Tagging.ipynb\" target=\"_parent\"><img src=\"https://colab.research.google.com/assets/colab-badge.svg\" alt=\"Open In Colab\"/></a>"
      ]
    },
    {
      "cell_type": "code",
      "execution_count": 1,
      "metadata": {
        "id": "RuwcoJ9z2ght"
      },
      "outputs": [],
      "source": [
        "import spacy"
      ]
    },
    {
      "cell_type": "code",
      "source": [
        "nlp = spacy.load(\"en_core_web_sm\")"
      ],
      "metadata": {
        "id": "G-3UfPRc2o4L"
      },
      "execution_count": 2,
      "outputs": []
    },
    {
      "cell_type": "code",
      "source": [
        "nlp.pipe_names"
      ],
      "metadata": {
        "colab": {
          "base_uri": "https://localhost:8080/"
        },
        "id": "IxzcN4Mn6S4F",
        "outputId": "2b12d187-8087-49c4-ccbe-0b9267ebbdd0"
      },
      "execution_count": 6,
      "outputs": [
        {
          "output_type": "execute_result",
          "data": {
            "text/plain": [
              "['tok2vec', 'tagger', 'parser', 'attribute_ruler', 'lemmatizer', 'ner']"
            ]
          },
          "metadata": {},
          "execution_count": 6
        }
      ]
    },
    {
      "cell_type": "markdown",
      "source": [
        "# **POS Tags**"
      ],
      "metadata": {
        "id": "oJ_JaU2GBznO"
      }
    },
    {
      "cell_type": "code",
      "source": [
        "doc = nlp(\"Wow! Dr. Strange made 265 million $ on the very first day\")\n",
        "\n",
        "for token in doc :\n",
        "  print(token ,'|', token.pos_ , '|' , spacy.explain(token.pos_))"
      ],
      "metadata": {
        "colab": {
          "base_uri": "https://localhost:8080/"
        },
        "id": "P5wq-UyS2zy6",
        "outputId": "d8bbcea5-8529-40a8-dac3-b385f6332d2e"
      },
      "execution_count": 5,
      "outputs": [
        {
          "output_type": "stream",
          "name": "stdout",
          "text": [
            "Wow | INTJ | interjection\n",
            "! | PUNCT | punctuation\n",
            "Dr. | PROPN | proper noun\n",
            "Strange | PROPN | proper noun\n",
            "made | VERB | verb\n",
            "265 | NUM | numeral\n",
            "million | NUM | numeral\n",
            "$ | NUM | numeral\n",
            "on | ADP | adposition\n",
            "the | DET | determiner\n",
            "very | ADV | adverb\n",
            "first | ADJ | adjective\n",
            "day | NOUN | noun\n"
          ]
        }
      ]
    },
    {
      "cell_type": "code",
      "source": [
        "doc = nlp(\"Wow! Dr. Strange made 265 million $ on the very first day\")\n",
        "\n",
        "for token in doc:\n",
        "  print(token,'|' , token.pos_ , '|', spacy.explain(token.pos_) , '|', token.tag_ , '|', spacy.explain(token.tag_))"
      ],
      "metadata": {
        "colab": {
          "base_uri": "https://localhost:8080/"
        },
        "id": "1K08JURO3YzF",
        "outputId": "ad6a25b5-e964-4ca9-d9d2-2bf9ae3cefbc"
      },
      "execution_count": 10,
      "outputs": [
        {
          "output_type": "stream",
          "name": "stdout",
          "text": [
            "Wow | INTJ | interjection | UH | interjection\n",
            "! | PUNCT | punctuation | . | punctuation mark, sentence closer\n",
            "Dr. | PROPN | proper noun | NNP | noun, proper singular\n",
            "Strange | PROPN | proper noun | NNP | noun, proper singular\n",
            "made | VERB | verb | VBD | verb, past tense\n",
            "265 | NUM | numeral | CD | cardinal number\n",
            "million | NUM | numeral | CD | cardinal number\n",
            "$ | NUM | numeral | CD | cardinal number\n",
            "on | ADP | adposition | IN | conjunction, subordinating or preposition\n",
            "the | DET | determiner | DT | determiner\n",
            "very | ADV | adverb | RB | adverb\n",
            "first | ADJ | adjective | JJ | adjective (English), other noun-modifier (Chinese)\n",
            "day | NOUN | noun | NN | noun, singular or mass\n"
          ]
        }
      ]
    },
    {
      "cell_type": "code",
      "source": [],
      "metadata": {
        "id": "OoPfWZXRBLeY"
      },
      "execution_count": null,
      "outputs": []
    }
  ]
}